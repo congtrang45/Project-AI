{
  "nbformat": 4,
  "nbformat_minor": 0,
  "metadata": {
    "colab": {
      "name": "Gender_Detect.ipynb",
      "provenance": [],
      "collapsed_sections": []
    },
    "kernelspec": {
      "name": "python3",
      "display_name": "Python 3"
    },
    "language_info": {
      "name": "python"
    },
    "accelerator": "GPU"
  },
  "cells": [
    {
      "cell_type": "code",
      "execution_count": null,
      "metadata": {
        "colab": {
          "base_uri": "https://localhost:8080/"
        },
        "id": "Rk2akfN_rFVq",
        "outputId": "1276950f-586b-4256-db1f-fe51894425c2"
      },
      "outputs": [
        {
          "output_type": "stream",
          "name": "stdout",
          "text": [
            "Done\n"
          ]
        }
      ],
      "source": [
        "from zipfile import ZipFile\n",
        "file_name = \"UTKFace.zip\"\n",
        "\n",
        "with ZipFile(file_name,'r') as zip:\n",
        "  zip.extractall()\n",
        "  print('Done')"
      ]
    },
    {
      "cell_type": "code",
      "source": [
        "import pandas as pd\n",
        "import numpy as np\n",
        "import os\n",
        "import matplotlib.pyplot as plt\n",
        "import cv2\n",
        "from keras.models import Sequential,load_model,Model\n",
        "from keras.layers import Conv2D,MaxPool2D,Dense,Dropout,BatchNormalization,Flatten,Input\n",
        "from sklearn.model_selection import train_test_split"
      ],
      "metadata": {
        "id": "nqXMELLNvzMA"
      },
      "execution_count": null,
      "outputs": []
    },
    {
      "cell_type": "code",
      "source": [
        "path = \"/content/UTKFace\"\n",
        "images = []\n",
        "gender = []\n",
        "for img in os.listdir(path):\n",
        "  genders = img.split(\"_\")[1]\n",
        "  img = cv2.imread(str(path)+\"/\"+str(img))\n",
        "  img = cv2.cvtColor(img,cv2.COLOR_BGR2RGB)\n",
        "  images.append(np.array(img))\n",
        "  gender.append(np.array(genders))"
      ],
      "metadata": {
        "id": "jvcPkCz3v3_n"
      },
      "execution_count": null,
      "outputs": []
    },
    {
      "cell_type": "code",
      "source": [
        "images = np.array(images)   \n",
        "gender = np.array(gender,np.uint64)\n",
        "x_train_gender, x_test_gender, y_train_gender, y_test_gender = train_test_split(images, gender, random_state=35)"
      ],
      "metadata": {
        "id": "lod96_eWv4FG"
      },
      "execution_count": null,
      "outputs": []
    },
    {
      "cell_type": "code",
      "source": [
        "gender_model = Sequential()\n",
        "\n",
        "gender_model.add(Conv2D(32, kernel_size=(3,3), activation='relu', input_shape=(200,200,3)))\n",
        "gender_model.add(MaxPool2D(pool_size=(3,3), strides=2))\n",
        "\n",
        "gender_model.add(Conv2D(64, kernel_size=(3,3), activation='relu'))\n",
        "gender_model.add(MaxPool2D(pool_size=(3,3), strides=2))\n",
        "\n",
        "gender_model.add(Conv2D(128, kernel_size=(3,3), activation='relu'))\n",
        "gender_model.add(MaxPool2D(pool_size=(3,3), strides=2))\n",
        "\n",
        "gender_model.add(Conv2D(256, kernel_size=(3,3), activation='relu'))\n",
        "gender_model.add(MaxPool2D(pool_size=(3,3), strides=2))\n",
        "\n",
        "gender_model.add(Conv2D(512, kernel_size=(3,3), activation='relu'))\n",
        "gender_model.add(MaxPool2D(pool_size=(3,3), strides=2))\n",
        "\n",
        "gender_model.add(Flatten())\n",
        "gender_model.add(Dropout(0.2))\n",
        "gender_model.add(Dense(512, activation='relu'))\n",
        "gender_model.add(Dense(1, activation='sigmoid', name='gender'))\n",
        "\n",
        "gender_model.summary()\n",
        "\n",
        "gender_model.compile(optimizer='adam', loss='binary_crossentropy', metrics=['accuracy'])\n",
        "\n",
        "history_gender = gender_model.fit(x_train_gender, y_train_gender, validation_data=(x_test_gender, y_test_gender), epochs=50)\n",
        "\n",
        "gender_model.save('gender_model_50epochs.h5')"
      ],
      "metadata": {
        "colab": {
          "base_uri": "https://localhost:8080/"
        },
        "id": "pTV4k1x0v70p",
        "outputId": "41e5ac0a-cd1c-4f92-c4f9-53a19f7e50b0"
      },
      "execution_count": null,
      "outputs": [
        {
          "output_type": "stream",
          "name": "stdout",
          "text": [
            "Model: \"sequential\"\n",
            "_________________________________________________________________\n",
            " Layer (type)                Output Shape              Param #   \n",
            "=================================================================\n",
            " conv2d (Conv2D)             (None, 198, 198, 32)      896       \n",
            "                                                                 \n",
            " max_pooling2d (MaxPooling2D  (None, 98, 98, 32)       0         \n",
            " )                                                               \n",
            "                                                                 \n",
            " conv2d_1 (Conv2D)           (None, 96, 96, 64)        18496     \n",
            "                                                                 \n",
            " max_pooling2d_1 (MaxPooling  (None, 47, 47, 64)       0         \n",
            " 2D)                                                             \n",
            "                                                                 \n",
            " conv2d_2 (Conv2D)           (None, 45, 45, 128)       73856     \n",
            "                                                                 \n",
            " max_pooling2d_2 (MaxPooling  (None, 22, 22, 128)      0         \n",
            " 2D)                                                             \n",
            "                                                                 \n",
            " conv2d_3 (Conv2D)           (None, 20, 20, 256)       295168    \n",
            "                                                                 \n",
            " max_pooling2d_3 (MaxPooling  (None, 9, 9, 256)        0         \n",
            " 2D)                                                             \n",
            "                                                                 \n",
            " conv2d_4 (Conv2D)           (None, 7, 7, 512)         1180160   \n",
            "                                                                 \n",
            " max_pooling2d_4 (MaxPooling  (None, 3, 3, 512)        0         \n",
            " 2D)                                                             \n",
            "                                                                 \n",
            " flatten (Flatten)           (None, 4608)              0         \n",
            "                                                                 \n",
            " dropout (Dropout)           (None, 4608)              0         \n",
            "                                                                 \n",
            " dense (Dense)               (None, 512)               2359808   \n",
            "                                                                 \n",
            " gender (Dense)              (None, 1)                 513       \n",
            "                                                                 \n",
            "=================================================================\n",
            "Total params: 3,928,897\n",
            "Trainable params: 3,928,897\n",
            "Non-trainable params: 0\n",
            "_________________________________________________________________\n",
            "Epoch 1/50\n",
            "556/556 [==============================] - 44s 54ms/step - loss: 1.0153 - accuracy: 0.7087 - val_loss: 0.4591 - val_accuracy: 0.7879\n",
            "Epoch 2/50\n",
            "556/556 [==============================] - 28s 51ms/step - loss: 0.4268 - accuracy: 0.8056 - val_loss: 0.3633 - val_accuracy: 0.8417\n",
            "Epoch 3/50\n",
            "556/556 [==============================] - 29s 51ms/step - loss: 0.3725 - accuracy: 0.8336 - val_loss: 0.3340 - val_accuracy: 0.8514\n",
            "Epoch 4/50\n",
            "556/556 [==============================] - 29s 52ms/step - loss: 0.3411 - accuracy: 0.8481 - val_loss: 0.3441 - val_accuracy: 0.8444\n",
            "Epoch 5/50\n",
            "556/556 [==============================] - 29s 52ms/step - loss: 0.3270 - accuracy: 0.8555 - val_loss: 0.3204 - val_accuracy: 0.8601\n",
            "Epoch 6/50\n",
            "556/556 [==============================] - 29s 52ms/step - loss: 0.3086 - accuracy: 0.8604 - val_loss: 0.3165 - val_accuracy: 0.8590\n",
            "Epoch 7/50\n",
            "556/556 [==============================] - 29s 52ms/step - loss: 0.3006 - accuracy: 0.8668 - val_loss: 0.3297 - val_accuracy: 0.8461\n",
            "Epoch 8/50\n",
            "556/556 [==============================] - 29s 52ms/step - loss: 0.2835 - accuracy: 0.8744 - val_loss: 0.3337 - val_accuracy: 0.8588\n",
            "Epoch 9/50\n",
            "556/556 [==============================] - 29s 52ms/step - loss: 0.2759 - accuracy: 0.8796 - val_loss: 0.2820 - val_accuracy: 0.8785\n",
            "Epoch 10/50\n",
            "556/556 [==============================] - 29s 52ms/step - loss: 0.2741 - accuracy: 0.8789 - val_loss: 0.2695 - val_accuracy: 0.8794\n",
            "Epoch 11/50\n",
            "556/556 [==============================] - 29s 52ms/step - loss: 0.2626 - accuracy: 0.8864 - val_loss: 0.2853 - val_accuracy: 0.8797\n",
            "Epoch 12/50\n",
            "556/556 [==============================] - 29s 51ms/step - loss: 0.2515 - accuracy: 0.8888 - val_loss: 0.2884 - val_accuracy: 0.8746\n",
            "Epoch 13/50\n",
            "556/556 [==============================] - 29s 51ms/step - loss: 0.2441 - accuracy: 0.8908 - val_loss: 0.2674 - val_accuracy: 0.8772\n",
            "Epoch 14/50\n",
            "556/556 [==============================] - 29s 52ms/step - loss: 0.2492 - accuracy: 0.8912 - val_loss: 0.2775 - val_accuracy: 0.8819\n",
            "Epoch 15/50\n",
            "556/556 [==============================] - 29s 51ms/step - loss: 0.2357 - accuracy: 0.8968 - val_loss: 0.2778 - val_accuracy: 0.8763\n",
            "Epoch 16/50\n",
            "556/556 [==============================] - 29s 51ms/step - loss: 0.2263 - accuracy: 0.9033 - val_loss: 0.2965 - val_accuracy: 0.8826\n",
            "Epoch 17/50\n",
            "556/556 [==============================] - 29s 51ms/step - loss: 0.2198 - accuracy: 0.9054 - val_loss: 0.2818 - val_accuracy: 0.8841\n",
            "Epoch 18/50\n",
            "556/556 [==============================] - 29s 51ms/step - loss: 0.2199 - accuracy: 0.9047 - val_loss: 0.2658 - val_accuracy: 0.8839\n",
            "Epoch 19/50\n",
            "556/556 [==============================] - 29s 52ms/step - loss: 0.2132 - accuracy: 0.9081 - val_loss: 0.2771 - val_accuracy: 0.8859\n",
            "Epoch 20/50\n",
            "556/556 [==============================] - 31s 55ms/step - loss: 0.2131 - accuracy: 0.9071 - val_loss: 0.2634 - val_accuracy: 0.8865\n",
            "Epoch 21/50\n",
            "556/556 [==============================] - 29s 52ms/step - loss: 0.2044 - accuracy: 0.9135 - val_loss: 0.2810 - val_accuracy: 0.8741\n",
            "Epoch 22/50\n",
            "556/556 [==============================] - 28s 51ms/step - loss: 0.2193 - accuracy: 0.9091 - val_loss: 0.2918 - val_accuracy: 0.8762\n",
            "Epoch 23/50\n",
            "556/556 [==============================] - 28s 51ms/step - loss: 0.1874 - accuracy: 0.9176 - val_loss: 0.2802 - val_accuracy: 0.8844\n",
            "Epoch 24/50\n",
            "556/556 [==============================] - 29s 52ms/step - loss: 0.1895 - accuracy: 0.9172 - val_loss: 0.2827 - val_accuracy: 0.8871\n",
            "Epoch 25/50\n",
            "556/556 [==============================] - 28s 51ms/step - loss: 0.1875 - accuracy: 0.9185 - val_loss: 0.2933 - val_accuracy: 0.8861\n",
            "Epoch 26/50\n",
            "556/556 [==============================] - 28s 51ms/step - loss: 0.1847 - accuracy: 0.9192 - val_loss: 0.3097 - val_accuracy: 0.8861\n",
            "Epoch 27/50\n",
            "556/556 [==============================] - 29s 51ms/step - loss: 0.1798 - accuracy: 0.9236 - val_loss: 0.3352 - val_accuracy: 0.8760\n",
            "Epoch 28/50\n",
            "556/556 [==============================] - 29s 52ms/step - loss: 0.1830 - accuracy: 0.9190 - val_loss: 0.2888 - val_accuracy: 0.8834\n",
            "Epoch 29/50\n",
            "556/556 [==============================] - 29s 51ms/step - loss: 0.1699 - accuracy: 0.9249 - val_loss: 0.3375 - val_accuracy: 0.8797\n",
            "Epoch 30/50\n",
            "556/556 [==============================] - 29s 51ms/step - loss: 0.1637 - accuracy: 0.9300 - val_loss: 0.4022 - val_accuracy: 0.8699\n",
            "Epoch 31/50\n",
            "556/556 [==============================] - 28s 51ms/step - loss: 0.1651 - accuracy: 0.9286 - val_loss: 0.2891 - val_accuracy: 0.8932\n",
            "Epoch 32/50\n",
            "556/556 [==============================] - 29s 51ms/step - loss: 0.1541 - accuracy: 0.9355 - val_loss: 0.3124 - val_accuracy: 0.8799\n",
            "Epoch 33/50\n",
            "556/556 [==============================] - 28s 51ms/step - loss: 0.1595 - accuracy: 0.9323 - val_loss: 0.3312 - val_accuracy: 0.8865\n",
            "Epoch 34/50\n",
            "556/556 [==============================] - 28s 51ms/step - loss: 0.1541 - accuracy: 0.9339 - val_loss: 0.3208 - val_accuracy: 0.8866\n",
            "Epoch 35/50\n",
            "556/556 [==============================] - 29s 51ms/step - loss: 0.1613 - accuracy: 0.9314 - val_loss: 0.3104 - val_accuracy: 0.8881\n",
            "Epoch 36/50\n",
            "556/556 [==============================] - 29s 51ms/step - loss: 0.1507 - accuracy: 0.9384 - val_loss: 0.3325 - val_accuracy: 0.8831\n",
            "Epoch 37/50\n",
            "556/556 [==============================] - 29s 51ms/step - loss: 0.1388 - accuracy: 0.9406 - val_loss: 0.3876 - val_accuracy: 0.8868\n",
            "Epoch 38/50\n",
            "556/556 [==============================] - 29s 51ms/step - loss: 0.1575 - accuracy: 0.9325 - val_loss: 0.3589 - val_accuracy: 0.8824\n",
            "Epoch 39/50\n",
            "556/556 [==============================] - 28s 51ms/step - loss: 0.1357 - accuracy: 0.9408 - val_loss: 0.3414 - val_accuracy: 0.8917\n",
            "Epoch 40/50\n",
            "556/556 [==============================] - 29s 52ms/step - loss: 0.1346 - accuracy: 0.9427 - val_loss: 0.3336 - val_accuracy: 0.8910\n",
            "Epoch 41/50\n",
            "556/556 [==============================] - 29s 51ms/step - loss: 0.1323 - accuracy: 0.9455 - val_loss: 0.3887 - val_accuracy: 0.8849\n",
            "Epoch 42/50\n",
            "556/556 [==============================] - 29s 51ms/step - loss: 0.1412 - accuracy: 0.9407 - val_loss: 0.3368 - val_accuracy: 0.8905\n",
            "Epoch 43/50\n",
            "556/556 [==============================] - 28s 51ms/step - loss: 0.1358 - accuracy: 0.9419 - val_loss: 0.3876 - val_accuracy: 0.8908\n",
            "Epoch 44/50\n",
            "556/556 [==============================] - 29s 51ms/step - loss: 0.1313 - accuracy: 0.9471 - val_loss: 0.3846 - val_accuracy: 0.8821\n",
            "Epoch 45/50\n",
            "556/556 [==============================] - 29s 51ms/step - loss: 0.1392 - accuracy: 0.9429 - val_loss: 0.3016 - val_accuracy: 0.8831\n",
            "Epoch 46/50\n",
            "556/556 [==============================] - 29s 51ms/step - loss: 0.1395 - accuracy: 0.9433 - val_loss: 0.3448 - val_accuracy: 0.8878\n",
            "Epoch 47/50\n",
            "556/556 [==============================] - 29s 51ms/step - loss: 0.1318 - accuracy: 0.9451 - val_loss: 0.3650 - val_accuracy: 0.8885\n",
            "Epoch 48/50\n",
            "556/556 [==============================] - 30s 54ms/step - loss: 0.1263 - accuracy: 0.9485 - val_loss: 0.3540 - val_accuracy: 0.8871\n",
            "Epoch 49/50\n",
            "556/556 [==============================] - 29s 51ms/step - loss: 0.1248 - accuracy: 0.9474 - val_loss: 0.4017 - val_accuracy: 0.8843\n",
            "Epoch 50/50\n",
            "556/556 [==============================] - 29s 52ms/step - loss: 0.1173 - accuracy: 0.9516 - val_loss: 0.4538 - val_accuracy: 0.8885\n"
          ]
        }
      ]
    },
    {
      "cell_type": "code",
      "source": [
        "score = gender_model.evaluate(x_test_gender, y_test_gender, verbose = 0) \n",
        "\n",
        "print('Test loss:', score[0]) \n",
        "print('Test accuracy:', score[1])"
      ],
      "metadata": {
        "colab": {
          "base_uri": "https://localhost:8080/"
        },
        "id": "0tzz9tiZTirg",
        "outputId": "b32d2b5b-46f6-4085-9216-64fc11f44b0b"
      },
      "execution_count": null,
      "outputs": [
        {
          "output_type": "stream",
          "name": "stdout",
          "text": [
            "Test loss: 0.45384758710861206\n",
            "Test accuracy: 0.8884764909744263\n"
          ]
        }
      ]
    },
    {
      "cell_type": "code",
      "source": [
        "history = history_gender\n",
        "\n",
        "plt.plot(history.history['accuracy'])\n",
        "plt.plot(history.history['val_accuracy'])\n",
        "plt.title('Training and Validation accuracy')\n",
        "plt.ylabel('Accuracy')\n",
        "plt.xlabel('Epochs')\n",
        "plt.legend(['train','val_acc'], loc = 'upper left')\n",
        "plt.show()\n",
        "\n",
        "plt.plot(history.history['loss'])\n",
        "plt.plot(history.history['val_loss'])\n",
        "plt.title('Training and Validation loss')\n",
        "plt.ylabel('Loss')\n",
        "plt.xlabel('Epochs')\n",
        "plt.legend(['train','val_loss'], loc = 'upper left')\n",
        "plt.show()"
      ],
      "metadata": {
        "colab": {
          "base_uri": "https://localhost:8080/",
          "height": 573
        },
        "id": "4zpJq-jSS0aM",
        "outputId": "adb42531-e844-4f1e-aeb3-01fc22f115c1"
      },
      "execution_count": null,
      "outputs": [
        {
          "output_type": "display_data",
          "data": {
            "text/plain": [
              "<Figure size 432x288 with 1 Axes>"
            ],
            "image/png": "[encoded data removed]"
          },
          "metadata": {
            "needs_background": "light"
          }
        },
        {
          "output_type": "display_data",
          "data": {
            "text/plain": [
              "<Figure size 432x288 with 1 Axes>"
            ],
            "image/png": "[encoded data removed]"
          },
          "metadata": {
            "needs_background": "light"
          }
        }
      ]
    }
  ]
}