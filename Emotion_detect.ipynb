{
  "nbformat": 4,
  "nbformat_minor": 0,
  "metadata": {
    "colab": {
      "name": "emotion_detect.ipynb",
      "provenance": [],
      "collapsed_sections": []
    },
    "kernelspec": {
      "name": "python3",
      "display_name": "Python 3"
    },
    "language_info": {
      "name": "python"
    },
    "accelerator": "GPU"
  },
  "cells": [
    {
      "cell_type": "code",
      "execution_count": null,
      "metadata": {
        "colab": {
          "base_uri": "https://localhost:8080/"
        },
        "id": "0g_hI1CmpUeK",
        "outputId": "1628834f-a00b-4f23-db29-afba37a5fde0"
      },
      "outputs": [
        {
          "output_type": "stream",
          "name": "stdout",
          "text": [
            "Đã giải nén thành công!\n"
          ]
        }
      ],
      "source": [
        "from zipfile import ZipFile\n",
        "file_name = \"emotion.zip\"\n",
        "\n",
        "with ZipFile(file_name,'r') as zip:\n",
        "  zip.extractall()\n",
        "  print('Đã giải nén thành công!')"
      ]
    },
    {
      "cell_type": "code",
      "source": [
        "from keras.preprocessing.image import ImageDataGenerator\n",
        "from keras.models import Sequential\n",
        "from keras.layers import Dense,Dropout,Flatten\n",
        "from keras.layers import Conv2D,MaxPooling2D\n",
        "import os\n",
        "from matplotlib import pyplot as plt\n",
        "import numpy as np"
      ],
      "metadata": {
        "id": "59quc3P4srOf"
      },
      "execution_count": null,
      "outputs": []
    },
    {
      "cell_type": "code",
      "source": [
        "\n",
        "train_data_dir='/content/emotion/train/'\n",
        "validation_data_dir='/content/emotion/test/'\n",
        "\n",
        "train_datagen = ImageDataGenerator(rescale=1./255, rotation_range=30, shear_range=0.25,\n",
        "                                   zoom_range=0.25, horizontal_flip=True, fill_mode='nearest')\n",
        "\n",
        "validation_datagen = ImageDataGenerator(rescale=1./255)\n",
        "\n",
        "train_generator = train_datagen.flow_from_directory(\n",
        "                                      train_data_dir,\n",
        "                                      color_mode='grayscale',\n",
        "                                      target_size=(48,48),\n",
        "                                      batch_size=32,\n",
        "                                      class_mode='categorical',\n",
        "                                      shuffle=True)\n",
        "\n",
        "validation_generator = validation_datagen.flow_from_directory(\n",
        "                                      validation_data_dir,\n",
        "                                      color_mode='grayscale',\n",
        "                                      target_size=(48,48),\n",
        "                                      batch_size=32,\n",
        "                                      class_mode='categorical',\n",
        "                                      shuffle=True)\n",
        "\n",
        "class_labels=['Angry','Disgust', 'Fear', 'Happy','Neutral','Sad','Surprise']"
      ],
      "metadata": {
        "colab": {
          "base_uri": "https://localhost:8080/"
        },
        "id": "nQqZ08eHswLL",
        "outputId": "a590107d-beab-4ea4-ea12-28815de8354c"
      },
      "execution_count": null,
      "outputs": [
        {
          "output_type": "stream",
          "name": "stdout",
          "text": [
            "Found 28709 images belonging to 7 classes.\n",
            "Found 7178 images belonging to 7 classes.\n"
          ]
        }
      ]
    },
    {
      "cell_type": "code",
      "source": [
        "\n",
        "model = Sequential()\n",
        "\n",
        "model.add(Conv2D(32, kernel_size=(3, 3), activation='relu', input_shape=(48,48,1)))\n",
        "\n",
        "model.add(Conv2D(64, kernel_size=(3, 3), activation='relu'))\n",
        "model.add(MaxPooling2D(pool_size=(2, 2)))\n",
        "model.add(Dropout(0.25))\n",
        "\n",
        "model.add(Conv2D(128, kernel_size=(3, 3), activation='relu'))\n",
        "model.add(MaxPooling2D(pool_size=(2, 2)))\n",
        "model.add(Dropout(0.25))\n",
        "\n",
        "model.add(Conv2D(256, kernel_size=(3, 3), activation='relu'))\n",
        "model.add(MaxPooling2D(pool_size=(2, 2)))\n",
        "model.add(Dropout(0.25))\n",
        "\n",
        "model.add(Flatten())\n",
        "model.add(Dense(512, activation='relu'))\n",
        "model.add(Dropout(0.5))\n",
        "\n",
        "model.add(Dense(7, activation='softmax'))\n",
        "\n",
        "model.compile(optimizer = 'adam', loss='categorical_crossentropy', metrics=['accuracy'])\n",
        "model.summary()\n",
        "\n",
        "\n",
        "train_path = \"/content/emotion/train\"\n",
        "test_path = \"/content/emotion/test\"\n",
        "\n",
        "num_train_imgs = 0\n",
        "for root, dirs, files in os.walk(train_path):\n",
        "    num_train_imgs += len(files)\n",
        "    \n",
        "num_test_imgs = 0\n",
        "for root, dirs, files in os.walk(test_path):\n",
        "    num_test_imgs += len(files)\n",
        "\n",
        "\n",
        "history=model.fit(train_generator,\n",
        "                steps_per_epoch=num_train_imgs//32,\n",
        "                epochs=100,\n",
        "                validation_data=validation_generator,\n",
        "                validation_steps=num_test_imgs//32)\n",
        "\n",
        "model.save('emotion_detection_model_100epochs.h5')"
      ],
      "metadata": {
        "colab": {
          "base_uri": "https://localhost:8080/"
        },
        "id": "qs8Z8Ytitzqa",
        "outputId": "6b48229c-4815-49d1-e67c-7d665393fd6a"
      },
      "execution_count": null,
      "outputs": [
        {
          "output_type": "stream",
          "name": "stdout",
          "text": [
            "Model: \"sequential\"\n",
            "_________________________________________________________________\n",
            " Layer (type)                Output Shape              Param #   \n",
            "=================================================================\n",
            " conv2d (Conv2D)             (None, 46, 46, 32)        320       \n",
            "                                                                 \n",
            " conv2d_1 (Conv2D)           (None, 44, 44, 64)        18496     \n",
            "                                                                 \n",
            " max_pooling2d (MaxPooling2D  (None, 22, 22, 64)       0         \n",
            " )                                                               \n",
            "                                                                 \n",
            " dropout (Dropout)           (None, 22, 22, 64)        0         \n",
            "                                                                 \n",
            " conv2d_2 (Conv2D)           (None, 20, 20, 128)       73856     \n",
            "                                                                 \n",
            " max_pooling2d_1 (MaxPooling  (None, 10, 10, 128)      0         \n",
            " 2D)                                                             \n",
            "                                                                 \n",
            " dropout_1 (Dropout)         (None, 10, 10, 128)       0         \n",
            "                                                                 \n",
            " conv2d_3 (Conv2D)           (None, 8, 8, 256)         295168    \n",
            "                                                                 \n",
            " max_pooling2d_2 (MaxPooling  (None, 4, 4, 256)        0         \n",
            " 2D)                                                             \n",
            "                                                                 \n",
            " dropout_2 (Dropout)         (None, 4, 4, 256)         0         \n",
            "                                                                 \n",
            " flatten (Flatten)           (None, 4096)              0         \n",
            "                                                                 \n",
            " dense (Dense)               (None, 512)               2097664   \n",
            "                                                                 \n",
            " dropout_3 (Dropout)         (None, 512)               0         \n",
            "                                                                 \n",
            " dense_1 (Dense)             (None, 7)                 3591      \n",
            "                                                                 \n",
            "=================================================================\n",
            "Total params: 2,489,095\n",
            "Trainable params: 2,489,095\n",
            "Non-trainable params: 0\n",
            "_________________________________________________________________\n",
            "Epoch 1/100\n",
            "897/897 [==============================] - 36s 27ms/step - loss: 1.7829 - accuracy: 0.2639 - val_loss: 1.6983 - val_accuracy: 0.3267\n",
            "Epoch 2/100\n",
            "897/897 [==============================] - 24s 26ms/step - loss: 1.6996 - accuracy: 0.3114 - val_loss: 1.5399 - val_accuracy: 0.4030\n",
            "Epoch 3/100\n",
            "897/897 [==============================] - 24s 26ms/step - loss: 1.5954 - accuracy: 0.3698 - val_loss: 1.4166 - val_accuracy: 0.4556\n",
            "Epoch 4/100\n",
            "897/897 [==============================] - 24s 27ms/step - loss: 1.5201 - accuracy: 0.4093 - val_loss: 1.3731 - val_accuracy: 0.4706\n",
            "Epoch 5/100\n",
            "897/897 [==============================] - 24s 27ms/step - loss: 1.4708 - accuracy: 0.4312 - val_loss: 1.3024 - val_accuracy: 0.5070\n",
            "Epoch 6/100\n",
            "897/897 [==============================] - 25s 28ms/step - loss: 1.4303 - accuracy: 0.4474 - val_loss: 1.2713 - val_accuracy: 0.5155\n",
            "Epoch 7/100\n",
            "897/897 [==============================] - 24s 27ms/step - loss: 1.4034 - accuracy: 0.4577 - val_loss: 1.2440 - val_accuracy: 0.5350\n",
            "Epoch 8/100\n",
            "897/897 [==============================] - 24s 26ms/step - loss: 1.3801 - accuracy: 0.4712 - val_loss: 1.2401 - val_accuracy: 0.5268\n",
            "Epoch 9/100\n",
            "897/897 [==============================] - 24s 26ms/step - loss: 1.3688 - accuracy: 0.4768 - val_loss: 1.2086 - val_accuracy: 0.5350\n",
            "Epoch 10/100\n",
            "897/897 [==============================] - 24s 26ms/step - loss: 1.3552 - accuracy: 0.4823 - val_loss: 1.1983 - val_accuracy: 0.5445\n",
            "Epoch 11/100\n",
            "897/897 [==============================] - 23s 26ms/step - loss: 1.3436 - accuracy: 0.4885 - val_loss: 1.2002 - val_accuracy: 0.5395\n",
            "Epoch 12/100\n",
            "897/897 [==============================] - 24s 26ms/step - loss: 1.3250 - accuracy: 0.4938 - val_loss: 1.2008 - val_accuracy: 0.5485\n",
            "Epoch 13/100\n",
            "897/897 [==============================] - 23s 26ms/step - loss: 1.3179 - accuracy: 0.4986 - val_loss: 1.1622 - val_accuracy: 0.5654\n",
            "Epoch 14/100\n",
            "897/897 [==============================] - 23s 26ms/step - loss: 1.3098 - accuracy: 0.5016 - val_loss: 1.1750 - val_accuracy: 0.5561\n",
            "Epoch 15/100\n",
            "897/897 [==============================] - 24s 26ms/step - loss: 1.3031 - accuracy: 0.5028 - val_loss: 1.1521 - val_accuracy: 0.5639\n",
            "Epoch 16/100\n",
            "897/897 [==============================] - 24s 26ms/step - loss: 1.2939 - accuracy: 0.5057 - val_loss: 1.1510 - val_accuracy: 0.5643\n",
            "Epoch 17/100\n",
            "897/897 [==============================] - 24s 26ms/step - loss: 1.2879 - accuracy: 0.5146 - val_loss: 1.1386 - val_accuracy: 0.5665\n",
            "Epoch 18/100\n",
            "897/897 [==============================] - 24s 26ms/step - loss: 1.2806 - accuracy: 0.5107 - val_loss: 1.1278 - val_accuracy: 0.5742\n",
            "Epoch 19/100\n",
            "897/897 [==============================] - 23s 26ms/step - loss: 1.2791 - accuracy: 0.5125 - val_loss: 1.1281 - val_accuracy: 0.5753\n",
            "Epoch 20/100\n",
            "897/897 [==============================] - 23s 26ms/step - loss: 1.2794 - accuracy: 0.5126 - val_loss: 1.1225 - val_accuracy: 0.5725\n",
            "Epoch 21/100\n",
            "897/897 [==============================] - 24s 27ms/step - loss: 1.2666 - accuracy: 0.5206 - val_loss: 1.1131 - val_accuracy: 0.5770\n",
            "Epoch 22/100\n",
            "897/897 [==============================] - 24s 27ms/step - loss: 1.2689 - accuracy: 0.5190 - val_loss: 1.1090 - val_accuracy: 0.5841\n",
            "Epoch 23/100\n",
            "897/897 [==============================] - 25s 28ms/step - loss: 1.2636 - accuracy: 0.5216 - val_loss: 1.1169 - val_accuracy: 0.5781\n",
            "Epoch 24/100\n",
            "897/897 [==============================] - 25s 27ms/step - loss: 1.2607 - accuracy: 0.5207 - val_loss: 1.1378 - val_accuracy: 0.5696\n",
            "Epoch 25/100\n",
            "897/897 [==============================] - 24s 27ms/step - loss: 1.2539 - accuracy: 0.5215 - val_loss: 1.0956 - val_accuracy: 0.5879\n",
            "Epoch 26/100\n",
            "897/897 [==============================] - 24s 27ms/step - loss: 1.2567 - accuracy: 0.5247 - val_loss: 1.1082 - val_accuracy: 0.5792\n",
            "Epoch 27/100\n",
            "897/897 [==============================] - 26s 29ms/step - loss: 1.2486 - accuracy: 0.5266 - val_loss: 1.1045 - val_accuracy: 0.5884\n",
            "Epoch 28/100\n",
            "897/897 [==============================] - 25s 28ms/step - loss: 1.2498 - accuracy: 0.5267 - val_loss: 1.1074 - val_accuracy: 0.5788\n",
            "Epoch 29/100\n",
            "897/897 [==============================] - 25s 28ms/step - loss: 1.2455 - accuracy: 0.5285 - val_loss: 1.0854 - val_accuracy: 0.5865\n",
            "Epoch 30/100\n",
            "897/897 [==============================] - 25s 28ms/step - loss: 1.2390 - accuracy: 0.5275 - val_loss: 1.0992 - val_accuracy: 0.5826\n",
            "Epoch 31/100\n",
            "897/897 [==============================] - 25s 28ms/step - loss: 1.2391 - accuracy: 0.5328 - val_loss: 1.0818 - val_accuracy: 0.5915\n",
            "Epoch 32/100\n",
            "897/897 [==============================] - 25s 28ms/step - loss: 1.2414 - accuracy: 0.5286 - val_loss: 1.0973 - val_accuracy: 0.5841\n",
            "Epoch 33/100\n",
            "897/897 [==============================] - 24s 27ms/step - loss: 1.2367 - accuracy: 0.5311 - val_loss: 1.0867 - val_accuracy: 0.5971\n",
            "Epoch 34/100\n",
            "897/897 [==============================] - 24s 27ms/step - loss: 1.2338 - accuracy: 0.5327 - val_loss: 1.0938 - val_accuracy: 0.5878\n",
            "Epoch 35/100\n",
            "897/897 [==============================] - 24s 27ms/step - loss: 1.2341 - accuracy: 0.5346 - val_loss: 1.1226 - val_accuracy: 0.5809\n",
            "Epoch 36/100\n",
            "897/897 [==============================] - 25s 28ms/step - loss: 1.2267 - accuracy: 0.5334 - val_loss: 1.1018 - val_accuracy: 0.5836\n",
            "Epoch 37/100\n",
            "897/897 [==============================] - 25s 27ms/step - loss: 1.2240 - accuracy: 0.5343 - val_loss: 1.0694 - val_accuracy: 0.5986\n",
            "Epoch 38/100\n",
            "897/897 [==============================] - 26s 28ms/step - loss: 1.2237 - accuracy: 0.5347 - val_loss: 1.0834 - val_accuracy: 0.5940\n",
            "Epoch 39/100\n",
            "897/897 [==============================] - 25s 28ms/step - loss: 1.2242 - accuracy: 0.5367 - val_loss: 1.0732 - val_accuracy: 0.5918\n",
            "Epoch 40/100\n",
            "897/897 [==============================] - 25s 27ms/step - loss: 1.2187 - accuracy: 0.5395 - val_loss: 1.0757 - val_accuracy: 0.5965\n",
            "Epoch 41/100\n",
            "897/897 [==============================] - 25s 28ms/step - loss: 1.2213 - accuracy: 0.5390 - val_loss: 1.0744 - val_accuracy: 0.5898\n",
            "Epoch 42/100\n",
            "897/897 [==============================] - 25s 28ms/step - loss: 1.2237 - accuracy: 0.5362 - val_loss: 1.0688 - val_accuracy: 0.5995\n",
            "Epoch 43/100\n",
            "897/897 [==============================] - 25s 28ms/step - loss: 1.2172 - accuracy: 0.5411 - val_loss: 1.0535 - val_accuracy: 0.6088\n",
            "Epoch 44/100\n",
            "897/897 [==============================] - 24s 26ms/step - loss: 1.2167 - accuracy: 0.5388 - val_loss: 1.0685 - val_accuracy: 0.5965\n",
            "Epoch 45/100\n",
            "897/897 [==============================] - 24s 27ms/step - loss: 1.2147 - accuracy: 0.5392 - val_loss: 1.0789 - val_accuracy: 0.5926\n",
            "Epoch 46/100\n",
            "897/897 [==============================] - 25s 28ms/step - loss: 1.2177 - accuracy: 0.5382 - val_loss: 1.0658 - val_accuracy: 0.6004\n",
            "Epoch 47/100\n",
            "897/897 [==============================] - 24s 27ms/step - loss: 1.2118 - accuracy: 0.5372 - val_loss: 1.0584 - val_accuracy: 0.5975\n",
            "Epoch 48/100\n",
            "897/897 [==============================] - 24s 26ms/step - loss: 1.2057 - accuracy: 0.5428 - val_loss: 1.0909 - val_accuracy: 0.5866\n",
            "Epoch 49/100\n",
            "897/897 [==============================] - 24s 27ms/step - loss: 1.2100 - accuracy: 0.5446 - val_loss: 1.0866 - val_accuracy: 0.5897\n",
            "Epoch 50/100\n",
            "897/897 [==============================] - 24s 27ms/step - loss: 1.2007 - accuracy: 0.5463 - val_loss: 1.0621 - val_accuracy: 0.6017\n",
            "Epoch 51/100\n",
            "897/897 [==============================] - 24s 26ms/step - loss: 1.2063 - accuracy: 0.5393 - val_loss: 1.0690 - val_accuracy: 0.5984\n",
            "Epoch 52/100\n",
            "897/897 [==============================] - 25s 28ms/step - loss: 1.2073 - accuracy: 0.5430 - val_loss: 1.0658 - val_accuracy: 0.6018\n",
            "Epoch 53/100\n",
            "897/897 [==============================] - 25s 28ms/step - loss: 1.2007 - accuracy: 0.5463 - val_loss: 1.0634 - val_accuracy: 0.5988\n",
            "Epoch 54/100\n",
            "897/897 [==============================] - 24s 27ms/step - loss: 1.2005 - accuracy: 0.5450 - val_loss: 1.0573 - val_accuracy: 0.6045\n",
            "Epoch 55/100\n",
            "897/897 [==============================] - 24s 26ms/step - loss: 1.2077 - accuracy: 0.5418 - val_loss: 1.0476 - val_accuracy: 0.6009\n",
            "Epoch 56/100\n",
            "897/897 [==============================] - 24s 27ms/step - loss: 1.2009 - accuracy: 0.5480 - val_loss: 1.0683 - val_accuracy: 0.5963\n",
            "Epoch 57/100\n",
            "897/897 [==============================] - 24s 27ms/step - loss: 1.2010 - accuracy: 0.5470 - val_loss: 1.0605 - val_accuracy: 0.5963\n",
            "Epoch 58/100\n",
            "897/897 [==============================] - 24s 27ms/step - loss: 1.2013 - accuracy: 0.5452 - val_loss: 1.0538 - val_accuracy: 0.6041\n",
            "Epoch 59/100\n",
            "897/897 [==============================] - 24s 27ms/step - loss: 1.1991 - accuracy: 0.5441 - val_loss: 1.0706 - val_accuracy: 0.5967\n",
            "Epoch 60/100\n",
            "897/897 [==============================] - 24s 26ms/step - loss: 1.1987 - accuracy: 0.5477 - val_loss: 1.0632 - val_accuracy: 0.6016\n",
            "Epoch 61/100\n",
            "897/897 [==============================] - 24s 26ms/step - loss: 1.1951 - accuracy: 0.5495 - val_loss: 1.0808 - val_accuracy: 0.5975\n",
            "Epoch 62/100\n",
            "897/897 [==============================] - 25s 27ms/step - loss: 1.1936 - accuracy: 0.5474 - val_loss: 1.0425 - val_accuracy: 0.6055\n",
            "Epoch 63/100\n",
            "897/897 [==============================] - 24s 27ms/step - loss: 1.1875 - accuracy: 0.5510 - val_loss: 1.0582 - val_accuracy: 0.6009\n",
            "Epoch 64/100\n",
            "897/897 [==============================] - 23s 26ms/step - loss: 1.1899 - accuracy: 0.5485 - val_loss: 1.0477 - val_accuracy: 0.6034\n",
            "Epoch 65/100\n",
            "897/897 [==============================] - 24s 26ms/step - loss: 1.1937 - accuracy: 0.5483 - val_loss: 1.0564 - val_accuracy: 0.5995\n",
            "Epoch 66/100\n",
            "897/897 [==============================] - 24s 26ms/step - loss: 1.1876 - accuracy: 0.5526 - val_loss: 1.0559 - val_accuracy: 0.6009\n",
            "Epoch 67/100\n",
            "897/897 [==============================] - 24s 26ms/step - loss: 1.1992 - accuracy: 0.5459 - val_loss: 1.0568 - val_accuracy: 0.5995\n",
            "Epoch 68/100\n",
            "897/897 [==============================] - 23s 26ms/step - loss: 1.1886 - accuracy: 0.5488 - val_loss: 1.0667 - val_accuracy: 0.6032\n",
            "Epoch 69/100\n",
            "897/897 [==============================] - 24s 26ms/step - loss: 1.1813 - accuracy: 0.5508 - val_loss: 1.0554 - val_accuracy: 0.6034\n",
            "Epoch 70/100\n",
            "897/897 [==============================] - 24s 26ms/step - loss: 1.1877 - accuracy: 0.5486 - val_loss: 1.0513 - val_accuracy: 0.6059\n",
            "Epoch 71/100\n",
            "897/897 [==============================] - 23s 26ms/step - loss: 1.1815 - accuracy: 0.5517 - val_loss: 1.0750 - val_accuracy: 0.5883\n",
            "Epoch 72/100\n",
            "897/897 [==============================] - 23s 26ms/step - loss: 1.1886 - accuracy: 0.5483 - val_loss: 1.0655 - val_accuracy: 0.5951\n",
            "Epoch 73/100\n",
            "897/897 [==============================] - 23s 26ms/step - loss: 1.1836 - accuracy: 0.5526 - val_loss: 1.0597 - val_accuracy: 0.5991\n",
            "Epoch 74/100\n",
            "897/897 [==============================] - 24s 26ms/step - loss: 1.1859 - accuracy: 0.5547 - val_loss: 1.0427 - val_accuracy: 0.6094\n",
            "Epoch 75/100\n",
            "897/897 [==============================] - 23s 26ms/step - loss: 1.1846 - accuracy: 0.5505 - val_loss: 1.0424 - val_accuracy: 0.6060\n",
            "Epoch 76/100\n",
            "897/897 [==============================] - 24s 26ms/step - loss: 1.1831 - accuracy: 0.5522 - val_loss: 1.0457 - val_accuracy: 0.6030\n",
            "Epoch 77/100\n",
            "897/897 [==============================] - 24s 26ms/step - loss: 1.1843 - accuracy: 0.5488 - val_loss: 1.0454 - val_accuracy: 0.6102\n",
            "Epoch 78/100\n",
            "897/897 [==============================] - 25s 28ms/step - loss: 1.1825 - accuracy: 0.5514 - val_loss: 1.0402 - val_accuracy: 0.6066\n",
            "Epoch 79/100\n",
            "897/897 [==============================] - 24s 26ms/step - loss: 1.1827 - accuracy: 0.5508 - val_loss: 1.0454 - val_accuracy: 0.6095\n",
            "Epoch 80/100\n",
            "897/897 [==============================] - 24s 27ms/step - loss: 1.1783 - accuracy: 0.5513 - val_loss: 1.0496 - val_accuracy: 0.6070\n",
            "Epoch 81/100\n",
            "897/897 [==============================] - 24s 27ms/step - loss: 1.1797 - accuracy: 0.5518 - val_loss: 1.0566 - val_accuracy: 0.6013\n",
            "Epoch 82/100\n",
            "897/897 [==============================] - 24s 27ms/step - loss: 1.1828 - accuracy: 0.5502 - val_loss: 1.0581 - val_accuracy: 0.6071\n",
            "Epoch 83/100\n",
            "897/897 [==============================] - 25s 28ms/step - loss: 1.1810 - accuracy: 0.5545 - val_loss: 1.0648 - val_accuracy: 0.6013\n",
            "Epoch 84/100\n",
            "897/897 [==============================] - 24s 27ms/step - loss: 1.1799 - accuracy: 0.5518 - val_loss: 1.0489 - val_accuracy: 0.6011\n",
            "Epoch 85/100\n",
            "897/897 [==============================] - 23s 26ms/step - loss: 1.1861 - accuracy: 0.5505 - val_loss: 1.1004 - val_accuracy: 0.5857\n",
            "Epoch 86/100\n",
            "897/897 [==============================] - 24s 27ms/step - loss: 1.1779 - accuracy: 0.5510 - val_loss: 1.0372 - val_accuracy: 0.6155\n",
            "Epoch 87/100\n",
            "897/897 [==============================] - 24s 26ms/step - loss: 1.1776 - accuracy: 0.5548 - val_loss: 1.0496 - val_accuracy: 0.6016\n",
            "Epoch 88/100\n",
            "897/897 [==============================] - 24s 26ms/step - loss: 1.1810 - accuracy: 0.5547 - val_loss: 1.0567 - val_accuracy: 0.6045\n",
            "Epoch 89/100\n",
            "897/897 [==============================] - 23s 26ms/step - loss: 1.1815 - accuracy: 0.5563 - val_loss: 1.0528 - val_accuracy: 0.6052\n",
            "Epoch 90/100\n",
            "897/897 [==============================] - 24s 26ms/step - loss: 1.1766 - accuracy: 0.5543 - val_loss: 1.0285 - val_accuracy: 0.6120\n",
            "Epoch 91/100\n",
            "897/897 [==============================] - 24s 27ms/step - loss: 1.1807 - accuracy: 0.5541 - val_loss: 1.0362 - val_accuracy: 0.6081\n",
            "Epoch 92/100\n",
            "897/897 [==============================] - 23s 26ms/step - loss: 1.1836 - accuracy: 0.5504 - val_loss: 1.0524 - val_accuracy: 0.6045\n",
            "Epoch 93/100\n",
            "897/897 [==============================] - 24s 27ms/step - loss: 1.1833 - accuracy: 0.5542 - val_loss: 1.0670 - val_accuracy: 0.6010\n",
            "Epoch 94/100\n",
            "897/897 [==============================] - 24s 27ms/step - loss: 1.1746 - accuracy: 0.5562 - val_loss: 1.0290 - val_accuracy: 0.6166\n",
            "Epoch 95/100\n",
            "897/897 [==============================] - 24s 26ms/step - loss: 1.1743 - accuracy: 0.5572 - val_loss: 1.0474 - val_accuracy: 0.6037\n",
            "Epoch 96/100\n",
            "897/897 [==============================] - 24s 27ms/step - loss: 1.1746 - accuracy: 0.5557 - val_loss: 1.0338 - val_accuracy: 0.6168\n",
            "Epoch 97/100\n",
            "897/897 [==============================] - 24s 27ms/step - loss: 1.1722 - accuracy: 0.5576 - val_loss: 1.0334 - val_accuracy: 0.6129\n",
            "Epoch 98/100\n",
            "897/897 [==============================] - 24s 27ms/step - loss: 1.1756 - accuracy: 0.5548 - val_loss: 1.0497 - val_accuracy: 0.6055\n",
            "Epoch 99/100\n",
            "897/897 [==============================] - 25s 28ms/step - loss: 1.1785 - accuracy: 0.5512 - val_loss: 1.0523 - val_accuracy: 0.6025\n",
            "Epoch 100/100\n",
            "897/897 [==============================] - 24s 27ms/step - loss: 1.1793 - accuracy: 0.5532 - val_loss: 1.0506 - val_accuracy: 0.6041\n"
          ]
        }
      ]
    },
    {
      "cell_type": "code",
      "source": [
        "score = model.evaluate(validation_generator, verbose = 0) \n",
        "\n",
        "print('Test loss:', score[0]) \n",
        "print('Test accuracy:', score[1])"
      ],
      "metadata": {
        "colab": {
          "base_uri": "https://localhost:8080/"
        },
        "id": "w8Wg6bGlsXXo",
        "outputId": "19005747-b3fc-40b1-ab83-9d71aefd1d7e"
      },
      "execution_count": null,
      "outputs": [
        {
          "output_type": "stream",
          "name": "stdout",
          "text": [
            "Test loss: 1.050581455230713\n",
            "Test accuracy: 0.6039286851882935\n"
          ]
        }
      ]
    },
    {
      "cell_type": "code",
      "source": [
        "plt.plot(history.history['accuracy'])\n",
        "plt.plot(history.history['val_accuracy'])\n",
        "plt.title('Training and Validation accuracy')\n",
        "plt.ylabel('Accuracy')\n",
        "plt.xlabel('Epochs')\n",
        "plt.legend(['train','val_acc'], loc = 'upper left')\n",
        "plt.show()\n",
        "\n",
        "plt.plot(history.history['loss'])\n",
        "plt.plot(history.history['val_loss'])\n",
        "plt.title('Training and Validation loss')\n",
        "plt.ylabel('Loss')\n",
        "plt.xlabel('Epochs')\n",
        "plt.legend(['train','val_loss'], loc = 'upper left')\n",
        "plt.show()"
      ],
      "metadata": {
        "colab": {
          "base_uri": "https://localhost:8080/",
          "height": 573
        },
        "id": "kliP2IeQBCwk",
        "outputId": "a68c0c94-cb8f-49c3-fb02-65ee3e8d740a"
      },
      "execution_count": null,
      "outputs": [
        {
          "output_type": "display_data",
          "data": {
            "text/plain": [
              "<Figure size 432x288 with 1 Axes>"
            ],
            "image/png": "[encoded data removed]"
          },
          "metadata": {
            "needs_background": "light"
          }
        },
        {
          "output_type": "display_data",
          "data": {
            "text/plain": [
              "<Figure size 432x288 with 1 Axes>"
            ],
            "image/png": "[encoded data removed]"
          },
          "metadata": {
            "needs_background": "light"
          }
        }
      ]
    }
  ]
}
