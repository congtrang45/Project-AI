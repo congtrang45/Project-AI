{
  "nbformat": 4,
  "nbformat_minor": 0,
  "metadata": {
    "colab": {
      "name": "age_detect.ipynb",
      "provenance": [],
      "collapsed_sections": []
    },
    "kernelspec": {
      "name": "python3",
      "display_name": "Python 3"
    },
    "language_info": {
      "name": "python"
    },
    "accelerator": "GPU"
  },
  "cells": [
    {
      "cell_type": "code",
      "execution_count": null,
      "metadata": {
        "colab": {
          "base_uri": "https://localhost:8080/"
        },
        "id": "EufeFbRFO3-H",
        "outputId": "833e705e-ce20-4c78-809f-1162014a0c84"
      },
      "outputs": [
        {
          "output_type": "stream",
          "name": "stdout",
          "text": [
            "Done\n"
          ]
        }
      ],
      "source": [
        "from zipfile import ZipFile\n",
        "file_name = \"UTKFace.zip\"\n",
        "\n",
        "with ZipFile(file_name,'r') as zip:\n",
        "  zip.extractall()\n",
        "  print('Đã giải nén thành công!')"
      ]
    },
    {
      "cell_type": "code",
      "source": [
        "import pandas as pd\n",
        "import numpy as np\n",
        "import os\n",
        "import matplotlib.pyplot as plt\n",
        "import cv2\n",
        "from keras.models import Sequential,load_model,Model\n",
        "from keras.layers import Conv2D,MaxPool2D,Dense,Dropout,BatchNormalization,Flatten,Input\n",
        "from sklearn.model_selection import train_test_split"
      ],
      "metadata": {
        "id": "Bpp2XJkuPwv_"
      },
      "execution_count": null,
      "outputs": []
    },
    {
      "cell_type": "code",
      "source": [
        "path = \"/content/UTKFace\"\n",
        "images = []\n",
        "age = []\n",
        "for img in os.listdir(path):\n",
        "  ages = img.split(\"_\")[0]\n",
        "  img = cv2.imread(str(path)+\"/\"+str(img))\n",
        "  img = cv2.cvtColor(img,cv2.COLOR_BGR2RGB)\n",
        "  images.append(np.array(img))\n",
        "  age.append(np.array(ages))"
      ],
      "metadata": {
        "id": "wNS__O8tPyS9"
      },
      "execution_count": null,
      "outputs": []
    },
    {
      "cell_type": "code",
      "source": [
        "age = np.array(age,dtype=np.int64)\n",
        "images = np.array(images) \n",
        "x_train_age, x_test_age, y_train_age, y_test_age = train_test_split(images, age, random_state=35)"
      ],
      "metadata": {
        "id": "KmHA5nL1P_6J"
      },
      "execution_count": null,
      "outputs": []
    },
    {
      "cell_type": "code",
      "source": [
        "age_model = Sequential()\n",
        "age_model.add(Conv2D(128, kernel_size=(3,3), activation='relu', input_shape=(200,200,3)))\n",
        "age_model.add(MaxPool2D(pool_size=(3,3), strides=2))\n",
        "\n",
        "age_model.add(Conv2D(128, kernel_size=(3,3), activation='relu'))\n",
        "age_model.add(MaxPool2D(pool_size=(3,3), strides=2))\n",
        "              \n",
        "age_model.add(Conv2D(256, kernel_size=(3,3), activation='relu'))\n",
        "age_model.add(MaxPool2D(pool_size=(3,3), strides=2))\n",
        "\n",
        "age_model.add(Conv2D(512, kernel_size=(3,3), activation='relu'))\n",
        "age_model.add(MaxPool2D(pool_size=(3,3), strides=2))\n",
        "\n",
        "age_model.add(Flatten())\n",
        "age_model.add(Dropout(0.2))\n",
        "age_model.add(Dense(512, activation='relu'))\n",
        "\n",
        "age_model.add(Dense(1, activation='linear', name='age'))\n",
        "              \n",
        "age_model.compile(optimizer='adam', loss='mse', metrics=['mae'])\n",
        "\n",
        "age_model.summary()            \n",
        "                           \n",
        "history_age = age_model.fit(x_train_age, y_train_age, validation_data=(x_test_age, y_test_age), epochs=50)\n",
        "\n",
        "age_model.save('age_model_50epochs.h5')"
      ],
      "metadata": {
        "colab": {
          "base_uri": "https://localhost:8080/"
        },
        "id": "ot3qWaJGQDE_",
        "outputId": "2e23746f-b38d-4bd8-eadb-d7dd728db99a"
      },
      "execution_count": null,
      "outputs": [
        {
          "output_type": "stream",
          "name": "stdout",
          "text": [
            "Model: \"sequential\"\n",
            "_________________________________________________________________\n",
            " Layer (type)                Output Shape              Param #   \n",
            "=================================================================\n",
            " conv2d (Conv2D)             (None, 198, 198, 128)     3584      \n",
            "                                                                 \n",
            " max_pooling2d (MaxPooling2D  (None, 98, 98, 128)      0         \n",
            " )                                                               \n",
            "                                                                 \n",
            " conv2d_1 (Conv2D)           (None, 96, 96, 128)       147584    \n",
            "                                                                 \n",
            " max_pooling2d_1 (MaxPooling  (None, 47, 47, 128)      0         \n",
            " 2D)                                                             \n",
            "                                                                 \n",
            " conv2d_2 (Conv2D)           (None, 45, 45, 256)       295168    \n",
            "                                                                 \n",
            " max_pooling2d_2 (MaxPooling  (None, 22, 22, 256)      0         \n",
            " 2D)                                                             \n",
            "                                                                 \n",
            " conv2d_3 (Conv2D)           (None, 20, 20, 512)       1180160   \n",
            "                                                                 \n",
            " max_pooling2d_3 (MaxPooling  (None, 9, 9, 512)        0         \n",
            " 2D)                                                             \n",
            "                                                                 \n",
            " flatten (Flatten)           (None, 41472)             0         \n",
            "                                                                 \n",
            " dropout (Dropout)           (None, 41472)             0         \n",
            "                                                                 \n",
            " dense (Dense)               (None, 512)               21234176  \n",
            "                                                                 \n",
            " age (Dense)                 (None, 1)                 513       \n",
            "                                                                 \n",
            "=================================================================\n",
            "Total params: 22,861,185\n",
            "Trainable params: 22,861,185\n",
            "Non-trainable params: 0\n",
            "_________________________________________________________________\n",
            "Epoch 1/50\n",
            "556/556 [==============================] - 94s 147ms/step - loss: 85921.1328 - mae: 28.6723 - val_loss: 321.8904 - val_mae: 13.8195\n",
            "Epoch 2/50\n",
            "556/556 [==============================] - 79s 142ms/step - loss: 278.1759 - mae: 12.7230 - val_loss: 218.7797 - val_mae: 10.9443\n",
            "Epoch 3/50\n",
            "556/556 [==============================] - 79s 143ms/step - loss: 226.2273 - mae: 11.4144 - val_loss: 188.1462 - val_mae: 10.4530\n",
            "Epoch 4/50\n",
            "556/556 [==============================] - 79s 143ms/step - loss: 193.8266 - mae: 10.3984 - val_loss: 180.3203 - val_mae: 10.5652\n",
            "Epoch 5/50\n",
            "556/556 [==============================] - 79s 143ms/step - loss: 169.1946 - mae: 9.6832 - val_loss: 141.8630 - val_mae: 8.9210\n",
            "Epoch 6/50\n",
            "556/556 [==============================] - 79s 143ms/step - loss: 151.9893 - mae: 9.1643 - val_loss: 146.0732 - val_mae: 9.0047\n",
            "Epoch 7/50\n",
            "556/556 [==============================] - 79s 143ms/step - loss: 146.2679 - mae: 8.9957 - val_loss: 121.1167 - val_mae: 8.1129\n",
            "Epoch 8/50\n",
            "556/556 [==============================] - 79s 143ms/step - loss: 140.7065 - mae: 8.8458 - val_loss: 150.1808 - val_mae: 9.3780\n",
            "Epoch 9/50\n",
            "556/556 [==============================] - 79s 143ms/step - loss: 130.8106 - mae: 8.5105 - val_loss: 118.0331 - val_mae: 8.2373\n",
            "Epoch 10/50\n",
            "556/556 [==============================] - 79s 142ms/step - loss: 124.9800 - mae: 8.3108 - val_loss: 122.3026 - val_mae: 8.3274\n",
            "Epoch 11/50\n",
            "556/556 [==============================] - 81s 145ms/step - loss: 114.3138 - mae: 7.8916 - val_loss: 109.2575 - val_mae: 7.6394\n",
            "Epoch 12/50\n",
            "556/556 [==============================] - 79s 142ms/step - loss: 114.8578 - mae: 7.9133 - val_loss: 128.4935 - val_mae: 8.1069\n",
            "Epoch 13/50\n",
            "556/556 [==============================] - 79s 143ms/step - loss: 108.0757 - mae: 7.6659 - val_loss: 122.3946 - val_mae: 8.4075\n",
            "Epoch 14/50\n",
            "556/556 [==============================] - 79s 143ms/step - loss: 106.0855 - mae: 7.6143 - val_loss: 121.1677 - val_mae: 8.7878\n",
            "Epoch 15/50\n",
            "556/556 [==============================] - 79s 143ms/step - loss: 99.5813 - mae: 7.3878 - val_loss: 98.9222 - val_mae: 7.4418\n",
            "Epoch 16/50\n",
            "556/556 [==============================] - 79s 142ms/step - loss: 100.3595 - mae: 7.3527 - val_loss: 97.8507 - val_mae: 7.3151\n",
            "Epoch 17/50\n",
            "556/556 [==============================] - 79s 142ms/step - loss: 96.5843 - mae: 7.2826 - val_loss: 97.9882 - val_mae: 7.1788\n",
            "Epoch 18/50\n",
            "556/556 [==============================] - 79s 142ms/step - loss: 91.8021 - mae: 7.0635 - val_loss: 98.7311 - val_mae: 7.5655\n",
            "Epoch 19/50\n",
            "556/556 [==============================] - 79s 142ms/step - loss: 90.5919 - mae: 7.0709 - val_loss: 138.5919 - val_mae: 9.2577\n",
            "Epoch 20/50\n",
            "556/556 [==============================] - 79s 142ms/step - loss: 87.7518 - mae: 6.9222 - val_loss: 96.8509 - val_mae: 7.1953\n",
            "Epoch 21/50\n",
            "556/556 [==============================] - 79s 142ms/step - loss: 86.8509 - mae: 6.9034 - val_loss: 99.1351 - val_mae: 7.1890\n",
            "Epoch 22/50\n",
            "556/556 [==============================] - 79s 142ms/step - loss: 85.2282 - mae: 6.8450 - val_loss: 101.5290 - val_mae: 7.4752\n",
            "Epoch 23/50\n",
            "556/556 [==============================] - 79s 142ms/step - loss: 80.3887 - mae: 6.6611 - val_loss: 100.2817 - val_mae: 7.2656\n",
            "Epoch 24/50\n",
            "556/556 [==============================] - 79s 142ms/step - loss: 77.9380 - mae: 6.5506 - val_loss: 90.4841 - val_mae: 7.0182\n",
            "Epoch 25/50\n",
            "556/556 [==============================] - 79s 141ms/step - loss: 77.7024 - mae: 6.5198 - val_loss: 92.4485 - val_mae: 6.9635\n",
            "Epoch 26/50\n",
            "556/556 [==============================] - 78s 141ms/step - loss: 76.2660 - mae: 6.4486 - val_loss: 99.7073 - val_mae: 7.3998\n",
            "Epoch 27/50\n",
            "556/556 [==============================] - 78s 141ms/step - loss: 76.0870 - mae: 6.4400 - val_loss: 154.4410 - val_mae: 8.7968\n",
            "Epoch 28/50\n",
            "556/556 [==============================] - 78s 141ms/step - loss: 71.0855 - mae: 6.2355 - val_loss: 104.3889 - val_mae: 7.5304\n",
            "Epoch 29/50\n",
            "556/556 [==============================] - 78s 141ms/step - loss: 70.7002 - mae: 6.2304 - val_loss: 88.3481 - val_mae: 6.7816\n",
            "Epoch 30/50\n",
            "556/556 [==============================] - 78s 140ms/step - loss: 69.5269 - mae: 6.1858 - val_loss: 97.5819 - val_mae: 7.0377\n",
            "Epoch 31/50\n",
            "556/556 [==============================] - 78s 140ms/step - loss: 67.0278 - mae: 6.0904 - val_loss: 101.3683 - val_mae: 7.1468\n",
            "Epoch 32/50\n",
            "556/556 [==============================] - 78s 141ms/step - loss: 66.9885 - mae: 6.0404 - val_loss: 91.7300 - val_mae: 6.8819\n",
            "Epoch 33/50\n",
            "556/556 [==============================] - 78s 140ms/step - loss: 61.6005 - mae: 5.8458 - val_loss: 97.1737 - val_mae: 7.3580\n",
            "Epoch 34/50\n",
            "556/556 [==============================] - 78s 140ms/step - loss: 63.0211 - mae: 5.9150 - val_loss: 91.0678 - val_mae: 6.7882\n",
            "Epoch 35/50\n",
            "556/556 [==============================] - 78s 140ms/step - loss: 62.0013 - mae: 5.8558 - val_loss: 94.9004 - val_mae: 7.1982\n",
            "Epoch 36/50\n",
            "556/556 [==============================] - 78s 140ms/step - loss: 61.6643 - mae: 5.8289 - val_loss: 93.2075 - val_mae: 6.9254\n",
            "Epoch 37/50\n",
            "556/556 [==============================] - 79s 143ms/step - loss: 60.1303 - mae: 5.7886 - val_loss: 97.2814 - val_mae: 7.1209\n",
            "Epoch 38/50\n",
            "556/556 [==============================] - 78s 140ms/step - loss: 57.0575 - mae: 5.6157 - val_loss: 88.7609 - val_mae: 6.8360\n",
            "Epoch 39/50\n",
            "556/556 [==============================] - 78s 140ms/step - loss: 54.6461 - mae: 5.5182 - val_loss: 102.4128 - val_mae: 7.6452\n",
            "Epoch 40/50\n",
            "556/556 [==============================] - 78s 140ms/step - loss: 54.4035 - mae: 5.5107 - val_loss: 88.3248 - val_mae: 6.7158\n",
            "Epoch 41/50\n",
            "556/556 [==============================] - 78s 140ms/step - loss: 53.3481 - mae: 5.4294 - val_loss: 102.0869 - val_mae: 7.2295\n",
            "Epoch 42/50\n",
            "556/556 [==============================] - 78s 140ms/step - loss: 51.0878 - mae: 5.3169 - val_loss: 107.5041 - val_mae: 7.8221\n",
            "Epoch 43/50\n",
            "556/556 [==============================] - 78s 140ms/step - loss: 52.6792 - mae: 5.3946 - val_loss: 85.9399 - val_mae: 6.6489\n",
            "Epoch 44/50\n",
            "556/556 [==============================] - 78s 140ms/step - loss: 47.7197 - mae: 5.1550 - val_loss: 96.4734 - val_mae: 6.9663\n",
            "Epoch 45/50\n",
            "556/556 [==============================] - 78s 140ms/step - loss: 45.8652 - mae: 5.0810 - val_loss: 90.4851 - val_mae: 6.9043\n",
            "Epoch 46/50\n",
            "556/556 [==============================] - 78s 139ms/step - loss: 45.7168 - mae: 5.0424 - val_loss: 84.1360 - val_mae: 6.5782\n",
            "Epoch 47/50\n",
            "556/556 [==============================] - 78s 140ms/step - loss: 44.9547 - mae: 5.0183 - val_loss: 91.0674 - val_mae: 6.8016\n",
            "Epoch 48/50\n",
            "556/556 [==============================] - 78s 139ms/step - loss: 43.0981 - mae: 4.9046 - val_loss: 85.4294 - val_mae: 6.6503\n",
            "Epoch 49/50\n",
            "556/556 [==============================] - 77s 139ms/step - loss: 41.1596 - mae: 4.8127 - val_loss: 83.0639 - val_mae: 6.6529\n",
            "Epoch 50/50\n",
            "556/556 [==============================] - 77s 139ms/step - loss: 40.2555 - mae: 4.7675 - val_loss: 90.0037 - val_mae: 6.8665\n"
          ]
        }
      ]
    },
    {
      "cell_type": "code",
      "source": [
        "score = age_model.evaluate(x_test_age, y_test_age, verbose = 0) \n",
        "\n",
        "print('Test loss:', score[0]) \n",
        "print('Test Mean Absolute Error (mae):', score[1])"
      ],
      "metadata": {
        "id": "bHo2dtKbha-G",
        "colab": {
          "base_uri": "https://localhost:8080/"
        },
        "outputId": "e916ae7e-dc28-4c20-d552-6161b7387d4d"
      },
      "execution_count": null,
      "outputs": [
        {
          "output_type": "stream",
          "name": "stdout",
          "text": [
            "Test loss: 90.00369262695312\n",
            "Test Mean Absolute Error (mae): 6.86650276184082\n"
          ]
        }
      ]
    },
    {
      "cell_type": "code",
      "source": [
        "history = history_age\n",
        "plt.plot(history.history['mae'])\n",
        "plt.plot(history.history['val_mae'])\n",
        "plt.title('Training and Validation mae')\n",
        "plt.ylabel('Mae')\n",
        "plt.xlabel('Epochs')\n",
        "plt.legend(['train','val_mae'], loc = 'upper left')\n",
        "plt.show()\n",
        "\n",
        "plt.plot(history.history['loss'][1:50])\n",
        "plt.plot(history.history['val_loss'][1:50])\n",
        "plt.title('Training and Validation loss')\n",
        "plt.ylabel('Loss')\n",
        "plt.xlabel('Epochs')\n",
        "plt.legend(['train','val_loss'], loc = 'upper left')\n",
        "plt.show()"
      ],
      "metadata": {
        "colab": {
          "base_uri": "https://localhost:8080/",
          "height": 573
        },
        "id": "A6ASkQA0Agn9",
        "outputId": "3f04dc30-6252-465e-b809-8a1994f167f3"
      },
      "execution_count": null,
      "outputs": [
        {
          "output_type": "display_data",
          "data": {
            "text/plain": [
              "<Figure size 432x288 with 1 Axes>"
            ],
            "image/png": "[encoded data removed]"
          },
          "metadata": {
            "needs_background": "light"
          }
        },
        {
          "output_type": "display_data",
          "data": {
            "text/plain": [
              "<Figure size 432x288 with 1 Axes>"
            ],
            "image/png": "[encoded data removed]"
          },
          "metadata": {
            "needs_background": "light"
          }
        }
      ]
    }
  ]
}